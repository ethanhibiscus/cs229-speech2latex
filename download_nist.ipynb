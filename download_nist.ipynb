{
 "cells": [
  {
   "cell_type": "code",
   "execution_count": 1,
   "metadata": {},
   "outputs": [],
   "source": [
    "import requests"
   ]
  },
  {
   "cell_type": "code",
   "execution_count": 2,
   "metadata": {},
   "outputs": [],
   "source": [
    "def get_formula(url):\n",
    "    response = requests.get(url)\n",
    "    if response.status_code == 200:\n",
    "        equation = response.text\n",
    "    else:\n",
    "        equation = False\n",
    "    return equation"
   ]
  },
  {
   "cell_type": "code",
   "execution_count": 20,
   "metadata": {},
   "outputs": [],
   "source": [
    "f = open(\"formulae_dataset.txt\", \"a\")\n",
    "\n",
    "base_url = \"https://dlmf.nist.gov/\"\n",
    "equations = \"\"\n",
    "\n",
    "subpages = [\"1.2\", \"1.3\"]\n",
    "\n",
    "with open(\"formulae_dataset.txt\", \"a\") as f:\n",
    "    for page in range(1,10):\n",
    "        for subpage in range(1, subpages_count[page] + 1):\n",
    "            equation = True\n",
    "            number = 1\n",
    "            while (True):\n",
    "                equation = get_formula(f\"{base_url}{page}.{subpage}.E{number}.tex\")\n",
    "                if not equation: break\n",
    "                f.write(equation[2:-3] + \"\\n\")\n",
    "                number += 1"
   ]
  },
  {
   "cell_type": "code",
   "execution_count": 30,
   "metadata": {},
   "outputs": [],
   "source": [
    "f = open(\"formulae_dataset.txt\", \"a\")\n",
    "\n",
    "base_url = \"https://dlmf.nist.gov/\"\n",
    "equations = \"\"\n",
    "\n",
    "subpages_count = [0,17,11,12,48,24,21,25,28,20]\n",
    "\n",
    "with open(\"formulae_dataset.txt\", \"a\") as f:\n",
    "    for page in range(1,10):\n",
    "        for subpage in range(1, subpages_count[page] + 1):\n",
    "            equation = True\n",
    "            number = 1\n",
    "            while (True):\n",
    "                equation = get_formula(f\"{base_url}{page}.{subpage}.E{number}.tex\")\n",
    "                if not equation: break\n",
    "                f.write(equation[2:-3] + \"\\n\")\n",
    "                number += 1"
   ]
  }
 ],
 "metadata": {
  "kernelspec": {
   "display_name": "Python 3",
   "language": "python",
   "name": "python3"
  },
  "language_info": {
   "codemirror_mode": {
    "name": "ipython",
    "version": 3
   },
   "file_extension": ".py",
   "mimetype": "text/x-python",
   "name": "python",
   "nbconvert_exporter": "python",
   "pygments_lexer": "ipython3",
   "version": "3.9.6"
  },
  "orig_nbformat": 4,
  "vscode": {
   "interpreter": {
    "hash": "31f2aee4e71d21fbe5cf8b01ff0e069b9275f58929596ceb00d14d90e3e16cd6"
   }
  }
 },
 "nbformat": 4,
 "nbformat_minor": 2
}
