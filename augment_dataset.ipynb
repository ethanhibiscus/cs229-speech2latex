{
 "cells": [
  {
   "cell_type": "code",
   "execution_count": 1,
   "metadata": {},
   "outputs": [],
   "source": [
    "import pandas as pd"
   ]
  },
  {
   "cell_type": "code",
   "execution_count": 52,
   "metadata": {},
   "outputs": [],
   "source": [
    "# Read generic_forumlae.csv\n",
    "generic_formulae = pd.read_csv(\"generic_formulae/natural_language.csv\", delimiter=\";\")"
   ]
  },
  {
   "cell_type": "code",
   "execution_count": 53,
   "metadata": {},
   "outputs": [],
   "source": [
    "# Let's now augment the data\n",
    "# In each row of generica_formulae:\n",
    "# If the Latex column contains a r\"23\", generate five different rows, replacing the numbers (23, 24, 25, ...) with random numbers below 10000\n",
    "# Also replace the English sections with the numbers\n",
    "import numpy as np\n",
    "\n",
    "def replace_num(row, number, number_language):\n",
    "    random_number = np.random.randint(1000)\n",
    "    random_num_str = str(random_number)\n",
    "    row['Latex'] = row['Latex'].replace(str(number), random_num_str)\n",
    "    row['English 1'] = row['English 1'].replace(number_language, random_num_str)\n",
    "    row['English 2'] = row['English 2'].replace(number_language, random_num_str)\n",
    "    row['English 3'] = row['English 3'].replace(number_language, random_num_str)\n",
    "    row['English 1'] = row['English 1'].replace(number_language.capitalize(), random_num_str)\n",
    "    row['English 2'] = row['English 2'].replace(number_language.capitalize(), random_num_str)\n",
    "    row['English 3'] = row['English 3'].replace(number_language.capitalize(), random_num_str)\n",
    "    return row\n",
    "\n",
    "def replace_function(row, function):\n",
    "    functions = [r\"\\phi\", r\"\\psi\", r\"\\omega\", r\"f\", r\"g\", r\"h\"]\n",
    "    functions_language = [r\"phi\", r\"psi\", r\"omega\", r\"f\", r\"g\", r\"h\"]\n",
    "    idx = np.random.randint(len(functions))\n",
    "    row['Latex'] = row['Latex'].replace(function, functions[idx])\n",
    "    row['English 1'] = row['English 1'].replace(function[1:], functions_language[idx])\n",
    "    row['English 2'] = row['English 2'].replace(function[1:], functions_language[idx])\n",
    "    row['English 3'] = row['English 3'].replace(function[1:], functions_language[idx])\n",
    "    row['English 1'] = row['English 1'].replace(function[1:].capitalize(), functions_language[idx].capitalize())\n",
    "    row['English 2'] = row['English 2'].replace(function[1:].capitalize(), functions_language[idx].capitalize())\n",
    "    row['English 3'] = row['English 3'].replace(function[1:].capitalize(), functions_language[idx].capitalize())\n",
    "    return row\n",
    "\n",
    "def replace_variable(row, variable):\n",
    "    variables = [r\"\\alpha\", r\"\\beta\", r\"\\gamma\", r\"\\delta\", r\"\\epsilon\", r\"\\zeta\", r\"\\eta\", \"x\", \"y\", \"z\", \"a\", \"b\", \"c\"]\n",
    "    variables_language = [r\"alpha\", r\"beta\", r\"gamma\", r\"delta\", r\"epsilon\", r\"zeta\", r\"eta\", \"x\", \"y\", \"z\", \"a\", \"b\", \"c\"]\n",
    "    idx = np.random.randint(len(variables))\n",
    "    row['Latex'] = row['Latex'].replace(variable, \" \" + variables[idx])\n",
    "    row['English 1'] = row['English 1'].replace(variable[1:], variables_language[idx])\n",
    "    row['English 2'] = row['English 2'].replace(variable[1:], variables_language[idx])\n",
    "    row['English 3'] = row['English 3'].replace(variable[1:], variables_language[idx])\n",
    "    row['English 1'] = row['English 1'].replace(variable[1:].capitalize(), variables_language[idx].capitalize())\n",
    "    row['English 2'] = row['English 2'].replace(variable[1:].capitalize(), variables_language[idx].capitalize())\n",
    "    row['English 3'] = row['English 3'].replace(variable[1:].capitalize(), variables_language[idx].capitalize())\n",
    "    return row\n",
    "\n",
    "def augment_data(df):\n",
    "    augmented_rows = []\n",
    "    for index, row in df.iterrows():\n",
    "        if r\"23\" in row['Latex'] or r\"\\phi\" in row[\"Latex\"] or r\"\\alpha\" in row[\"Latex\"]:\n",
    "            for i in range(20):\n",
    "                new_row = row.copy()    \n",
    "                new_row = replace_num(new_row, \"23\", \"twenty-three\")\n",
    "                new_row = replace_num(new_row, \"24\", \"twenty-fou\")\n",
    "                new_row = replace_num(new_row, \"25\", \"twenty-five\")\n",
    "                new_row = replace_num(new_row, \"26\", \"twenty-six\")\n",
    "                new_row = replace_num(new_row, \"27\", \"twenty-seven\")\n",
    "                new_row = replace_num(new_row, \"28\", \"twenty-eight\")\n",
    "                new_row = replace_function(new_row, r\"\\phi\")\n",
    "                new_row = replace_function(new_row, r\"\\psi\")\n",
    "                new_row = replace_function(new_row, r\"\\omega\")\n",
    "                new_row = replace_variable(new_row, r\"\\alpha\")\n",
    "                new_row = replace_variable(new_row, r\"\\beta\")\n",
    "                new_row = replace_variable(new_row, r\"\\gamma\")\n",
    "                augmented_rows.append(new_row)\n",
    "        else:\n",
    "            augmented_rows.append(row)\n",
    "    augmented_df = pd.DataFrame(augmented_rows)\n",
    "    return pd.concat([df, augmented_df], ignore_index=True)\n",
    "\n",
    "generic_formulae_augmented = augment_data(generic_formulae)\n",
    "generic_formulae_augmented.to_csv(\"generic_formulae/natural_language_augmented.csv\", index=False, sep=\";\")\n"
   ]
  },
  {
   "cell_type": "code",
   "execution_count": null,
   "metadata": {},
   "outputs": [],
   "source": []
  }
 ],
 "metadata": {
  "kernelspec": {
   "display_name": "base",
   "language": "python",
   "name": "python3"
  },
  "language_info": {
   "codemirror_mode": {
    "name": "ipython",
    "version": 3
   },
   "file_extension": ".py",
   "mimetype": "text/x-python",
   "name": "python",
   "nbconvert_exporter": "python",
   "pygments_lexer": "ipython3",
   "version": "3.11.5"
  }
 },
 "nbformat": 4,
 "nbformat_minor": 2
}
